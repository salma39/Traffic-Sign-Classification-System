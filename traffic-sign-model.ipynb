{
 "cells": [
  {
   "cell_type": "code",
   "execution_count": 11,
   "metadata": {
    "execution": {
     "iopub.execute_input": "2022-02-20T17:49:30.006288Z",
     "iopub.status.busy": "2022-02-20T17:49:30.006008Z",
     "iopub.status.idle": "2022-02-20T17:49:30.014103Z",
     "shell.execute_reply": "2022-02-20T17:49:30.013049Z",
     "shell.execute_reply.started": "2022-02-20T17:49:30.006259Z"
    }
   },
   "outputs": [],
   "source": [
    "import matplotlib.pyplot as plt\n",
    "%matplotlib inline\n",
    "import PIL\n",
    "import tensorflow as tf \n",
    "import cv2\n",
    "\n",
    "from tensorflow import keras\n",
    "from tensorflow.keras import layers, models\n",
    "import numpy as np # linear algebra\n",
    "import pandas as pd # data processing, CSV file I/O (e.g. pd.read_csv)\n",
    "\n",
    "# Input data files are available in the read-only \"../input/\" directory\n",
    "# For example, running this (by clicking run or pressing Shift+Enter) will list all files under the input directory\n",
    "\n",
    "import os"
   ]
  },
  {
   "cell_type": "code",
   "execution_count": 34,
   "metadata": {
    "execution": {
     "iopub.execute_input": "2022-02-20T18:16:51.338862Z",
     "iopub.status.busy": "2022-02-20T18:16:51.338488Z",
     "iopub.status.idle": "2022-02-20T18:16:51.405314Z",
     "shell.execute_reply": "2022-02-20T18:16:51.404521Z",
     "shell.execute_reply.started": "2022-02-20T18:16:51.338825Z"
    }
   },
   "outputs": [],
   "source": [
    "\n",
    "train = pd.read_csv('../input/gtsrb-german-traffic-sign/Train.csv',delimiter=',')\n",
    "train_path = train['Path']\n",
    "train_label = train['ClassId']\n",
    "train_path[0]\n"
   ]
  },
  {
   "cell_type": "code",
   "execution_count": 35,
   "metadata": {
    "execution": {
     "iopub.execute_input": "2022-02-20T18:16:52.003101Z",
     "iopub.status.busy": "2022-02-20T18:16:52.002811Z",
     "iopub.status.idle": "2022-02-20T18:16:52.009154Z",
     "shell.execute_reply": "2022-02-20T18:16:52.008108Z",
     "shell.execute_reply.started": "2022-02-20T18:16:52.003071Z"
    }
   },
   "outputs": [],
   "source": [
    "train_count= len(train)\n",
    "train_count\n"
   ]
  },
  {
   "cell_type": "markdown",
   "metadata": {},
   "source": [
    "# Data Dict"
   ]
  },
  {
   "cell_type": "code",
   "execution_count": 37,
   "metadata": {
    "execution": {
     "iopub.execute_input": "2022-02-20T18:21:56.513368Z",
     "iopub.status.busy": "2022-02-20T18:21:56.512549Z",
     "iopub.status.idle": "2022-02-20T18:22:48.364161Z",
     "shell.execute_reply": "2022-02-20T18:22:48.363130Z",
     "shell.execute_reply.started": "2022-02-20T18:21:56.513304Z"
    }
   },
   "outputs": [],
   "source": [
    "x_train,y_train= [],[]\n",
    "\n",
    "for path , label in zip(train_path,train_label):\n",
    "    \n",
    "    img = cv2.imread('../input/gtsrb-german-traffic-sign/'+path)\n",
    "    resized = cv2.resize(img,(32,32))\n",
    "    x_train.append(resized)\n",
    "    y_train.append(label)\n",
    "\n",
    "\n",
    "\n"
   ]
  },
  {
   "cell_type": "code",
   "execution_count": 47,
   "metadata": {
    "execution": {
     "iopub.execute_input": "2022-02-20T18:32:31.864233Z",
     "iopub.status.busy": "2022-02-20T18:32:31.863923Z",
     "iopub.status.idle": "2022-02-20T18:32:46.214433Z",
     "shell.execute_reply": "2022-02-20T18:32:46.213718Z",
     "shell.execute_reply.started": "2022-02-20T18:32:31.864199Z"
    }
   },
   "outputs": [],
   "source": [
    "test = pd.read_csv('../input/gtsrb-german-traffic-sign/Test.csv',delimiter=',')\n",
    "test_path = test['Path']\n",
    "test_label = test['ClassId']\n",
    "\n",
    "\n",
    "x_test,y_test= [],[]\n",
    "\n",
    "for path , label in zip(test_path,test_label):\n",
    "    \n",
    "    img = cv2.imread('../input/gtsrb-german-traffic-sign/'+path)\n",
    "    resized = cv2.resize(img,(32,32))\n",
    "    x_test.append(resized)\n",
    "    y_test.append(label)\n"
   ]
  },
  {
   "cell_type": "markdown",
   "metadata": {},
   "source": [
    "# Numpy Array"
   ]
  },
  {
   "cell_type": "code",
   "execution_count": 48,
   "metadata": {
    "execution": {
     "iopub.execute_input": "2022-02-20T18:32:46.216804Z",
     "iopub.status.busy": "2022-02-20T18:32:46.216284Z",
     "iopub.status.idle": "2022-02-20T18:32:46.281673Z",
     "shell.execute_reply": "2022-02-20T18:32:46.280560Z",
     "shell.execute_reply.started": "2022-02-20T18:32:46.216759Z"
    }
   },
   "outputs": [],
   "source": [
    "x_train=np.array(x_train)\n",
    "y_train = np.array(y_train)\n",
    "x_test = np.array(x_test)\n",
    "y_test = np.array(y_test)"
   ]
  },
  {
   "cell_type": "markdown",
   "metadata": {},
   "source": [
    "# Image Normalization"
   ]
  },
  {
   "cell_type": "code",
   "execution_count": 49,
   "metadata": {
    "execution": {
     "iopub.execute_input": "2022-02-20T18:32:46.283496Z",
     "iopub.status.busy": "2022-02-20T18:32:46.283167Z",
     "iopub.status.idle": "2022-02-20T18:32:46.797859Z",
     "shell.execute_reply": "2022-02-20T18:32:46.796788Z",
     "shell.execute_reply.started": "2022-02-20T18:32:46.283452Z"
    }
   },
   "outputs": [],
   "source": [
    "x_train_normalized = x_train/255\n",
    "x_test_normalized = x_test/255"
   ]
  },
  {
   "cell_type": "code",
   "execution_count": 50,
   "metadata": {
    "execution": {
     "iopub.execute_input": "2022-02-20T18:32:49.890370Z",
     "iopub.status.busy": "2022-02-20T18:32:49.890030Z",
     "iopub.status.idle": "2022-02-20T18:32:49.896845Z",
     "shell.execute_reply": "2022-02-20T18:32:49.896047Z",
     "shell.execute_reply.started": "2022-02-20T18:32:49.890313Z"
    }
   },
   "outputs": [],
   "source": [
    "x_train.shape"
   ]
  },
  {
   "cell_type": "code",
   "execution_count": 51,
   "metadata": {
    "execution": {
     "iopub.execute_input": "2022-02-20T18:32:52.759295Z",
     "iopub.status.busy": "2022-02-20T18:32:52.758824Z",
     "iopub.status.idle": "2022-02-20T18:32:52.765780Z",
     "shell.execute_reply": "2022-02-20T18:32:52.764958Z",
     "shell.execute_reply.started": "2022-02-20T18:32:52.759244Z"
    }
   },
   "outputs": [],
   "source": [
    "y_train.shape"
   ]
  },
  {
   "cell_type": "code",
   "execution_count": 52,
   "metadata": {
    "execution": {
     "iopub.execute_input": "2022-02-20T18:32:57.084440Z",
     "iopub.status.busy": "2022-02-20T18:32:57.083807Z",
     "iopub.status.idle": "2022-02-20T18:32:57.090939Z",
     "shell.execute_reply": "2022-02-20T18:32:57.089900Z",
     "shell.execute_reply.started": "2022-02-20T18:32:57.084399Z"
    }
   },
   "outputs": [],
   "source": [
    "y_test.shape"
   ]
  },
  {
   "cell_type": "code",
   "execution_count": 53,
   "metadata": {
    "execution": {
     "iopub.execute_input": "2022-02-20T18:33:00.046196Z",
     "iopub.status.busy": "2022-02-20T18:33:00.045802Z",
     "iopub.status.idle": "2022-02-20T18:33:00.051833Z",
     "shell.execute_reply": "2022-02-20T18:33:00.051220Z",
     "shell.execute_reply.started": "2022-02-20T18:33:00.046162Z"
    }
   },
   "outputs": [],
   "source": [
    "x_test.shape"
   ]
  },
  {
   "cell_type": "code",
   "execution_count": 55,
   "metadata": {
    "execution": {
     "iopub.execute_input": "2022-02-20T18:37:42.875322Z",
     "iopub.status.busy": "2022-02-20T18:37:42.874712Z",
     "iopub.status.idle": "2022-02-20T18:37:42.896781Z",
     "shell.execute_reply": "2022-02-20T18:37:42.895921Z",
     "shell.execute_reply.started": "2022-02-20T18:37:42.875283Z"
    }
   },
   "outputs": [],
   "source": [
    "pd.read_csv('../input/gtsrb-german-traffic-sign/Meta.csv',delimiter=',').head(5)"
   ]
  },
  {
   "cell_type": "code",
   "execution_count": 56,
   "metadata": {
    "execution": {
     "iopub.execute_input": "2022-02-20T18:47:14.187703Z",
     "iopub.status.busy": "2022-02-20T18:47:14.187185Z",
     "iopub.status.idle": "2022-02-20T18:47:14.205751Z",
     "shell.execute_reply": "2022-02-20T18:47:14.204665Z",
     "shell.execute_reply.started": "2022-02-20T18:47:14.187668Z"
    }
   },
   "outputs": [],
   "source": [
    "\n",
    "num_classes = len(pd.read_csv('../input/gtsrb-german-traffic-sign/Meta.csv',delimiter=','))\n",
    "num_classes"
   ]
  },
  {
   "cell_type": "markdown",
   "metadata": {},
   "source": [
    "# Data Augmentation"
   ]
  },
  {
   "cell_type": "code",
   "execution_count": 58,
   "metadata": {
    "execution": {
     "iopub.execute_input": "2022-02-20T18:54:55.326132Z",
     "iopub.status.busy": "2022-02-20T18:54:55.325599Z",
     "iopub.status.idle": "2022-02-20T18:54:55.471668Z",
     "shell.execute_reply": "2022-02-20T18:54:55.470910Z",
     "shell.execute_reply.started": "2022-02-20T18:54:55.326085Z"
    }
   },
   "outputs": [],
   "source": [
    "data_augmentation = keras.Sequential(\n",
    "  [\n",
    "    layers.experimental.preprocessing.RandomFlip(\"horizontal\",input_shape=(32, 32,3)),\n",
    "    layers.experimental.preprocessing.RandomRotation(0.1),\n",
    "    layers.experimental.preprocessing.RandomZoom(0.1),\n",
    "  ]\n",
    ")"
   ]
  },
  {
   "cell_type": "markdown",
   "metadata": {},
   "source": [
    "# Model Training"
   ]
  },
  {
   "cell_type": "code",
   "execution_count": 65,
   "metadata": {
    "execution": {
     "iopub.execute_input": "2022-02-20T19:12:51.346304Z",
     "iopub.status.busy": "2022-02-20T19:12:51.345900Z",
     "iopub.status.idle": "2022-02-20T19:26:59.858006Z",
     "shell.execute_reply": "2022-02-20T19:26:59.856932Z",
     "shell.execute_reply.started": "2022-02-20T19:12:51.346271Z"
    }
   },
   "outputs": [],
   "source": [
    "model = models.Sequential([\n",
    "  data_augmentation,\n",
    "  layers.Conv2D(16, 3, padding='same', activation='relu'),\n",
    "  layers.MaxPooling2D(),\n",
    "  layers.Conv2D(32, 3, padding='same', activation='relu'),\n",
    "  layers.MaxPooling2D(),\n",
    "  layers.Conv2D(64, 3, padding='same', activation='relu'),\n",
    "  layers.MaxPooling2D(),\n",
    "  layers.Dropout(0.2),\n",
    "  layers.Flatten(),\n",
    "  layers.Dense(128, activation='relu'),\n",
    "  layers.Dense(num_classes)\n",
    "])\n",
    "\n",
    "model.compile(optimizer='adam',\n",
    "              loss=tf.keras.losses.SparseCategoricalCrossentropy(from_logits=True),\n",
    "              metrics=['accuracy'])\n",
    "              \n",
    "model.fit(x_train_normalized, y_train, epochs=30)"
   ]
  },
  {
   "cell_type": "code",
   "execution_count": 66,
   "metadata": {
    "execution": {
     "iopub.execute_input": "2022-02-20T19:27:02.873711Z",
     "iopub.status.busy": "2022-02-20T19:27:02.872997Z",
     "iopub.status.idle": "2022-02-20T19:27:05.519484Z",
     "shell.execute_reply": "2022-02-20T19:27:05.518751Z",
     "shell.execute_reply.started": "2022-02-20T19:27:02.873668Z"
    }
   },
   "outputs": [],
   "source": [
    "model.evaluate(x_test_normalized,y_test)"
   ]
  },
  {
   "cell_type": "code",
   "execution_count": null,
   "metadata": {},
   "outputs": [],
   "source": [
    "model.save(./model.h5) "
   ]
  },
  {
   "cell_type": "code",
   "execution_count": null,
   "metadata": {},
   "outputs": [],
   "source": []
  }
 ],
 "metadata": {
  "kernelspec": {
   "display_name": "Python 3",
   "language": "python",
   "name": "python3"
  },
  "language_info": {
   "codemirror_mode": {
    "name": "ipython",
    "version": 3
   },
   "file_extension": ".py",
   "mimetype": "text/x-python",
   "name": "python",
   "nbconvert_exporter": "python",
   "pygments_lexer": "ipython3",
   "version": "3.8.8"
  }
 },
 "nbformat": 4,
 "nbformat_minor": 4
}
